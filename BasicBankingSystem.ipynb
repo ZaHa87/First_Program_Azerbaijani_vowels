{
  "nbformat": 4,
  "nbformat_minor": 0,
  "metadata": {
    "colab": {
      "name": "BasicBankingSystem.ipynb",
      "provenance": [],
      "collapsed_sections": [],
      "authorship_tag": "ABX9TyM/a8++8+86n/DWrGXZMsgi",
      "include_colab_link": true
    },
    "kernelspec": {
      "name": "python3",
      "display_name": "Python 3"
    },
    "language_info": {
      "name": "python"
    }
  },
  "cells": [
    {
      "cell_type": "markdown",
      "metadata": {
        "id": "view-in-github",
        "colab_type": "text"
      },
      "source": [
        "<a href=\"https://colab.research.google.com/github/ZaHa87/First_Program_Azerbaijani_vowels/blob/main/BasicBankingSystem.ipynb\" target=\"_parent\"><img src=\"https://colab.research.google.com/assets/colab-badge.svg\" alt=\"Open In Colab\"/></a>"
      ]
    },
    {
      "cell_type": "code",
      "metadata": {
        "id": "QVFbU2CyI6P5"
      },
      "source": [
        "# basic Banking system\n",
        "# created by Zaur Hamzayev\n",
        "''' \n",
        "Only for using class and functions in Python \n",
        "Created in Python 3.10 version\n",
        "Jupyter IDE\n",
        "'''\n",
        "class Bank:\n",
        "\n",
        "    def __init__(self, name, surname, password):\n",
        "\n",
        "        self.name = name\n",
        "        self.surname = surname\n",
        "        self.password = password\n",
        "        self.count_var = 0\n",
        "        self.balance = 1000\n",
        "    \n",
        "    def check_customer(self):\n",
        "        if self.name==self.name and self.surname==self.surname and self.password==self.password:\n",
        "            print(f\"{self.name}, Your Access Granted\")\n",
        "        else:\n",
        "            print(f\"{self.name}, please check again\")\n",
        "    \n",
        "    def cash_in(self):\n",
        "        cash_in_sum = int(input())\n",
        "        self.balance = self.balance + cash_in_sum\n",
        "        #return self.balance + cash_in_sum\n",
        "        print(f\"{self.name} Your balance has incrased to {self.balance}\")\n",
        "    \n",
        "    def cash_out(self):\n",
        "        cash_out_sum = int(input(\"How much money do you want to withdraw?  \"))\n",
        "        def warning(self):\n",
        "            print(f'{self.name} {self.surname}, You are blocked, please call *1111')\n",
        "        \n",
        "        while cash_out_sum > self.balance:\n",
        "            self.count_var += 1\n",
        "            if self.count_var < 3:\n",
        "                cash_out_sum = int(input(\"How much money do you want to withdraw?  \", ))\n",
        "                            \n",
        "            elif self.count_var == 3:\n",
        "                return print(warning(self))\n",
        "                                \n",
        "        if cash_out_sum <= self.balance:\n",
        "            self.count_var = 0\n",
        "            self.balance = self.balance - cash_out_sum\n",
        "            print(\"Your new balance is:\", self.balance)\n",
        "            \n",
        "        else:\n",
        "            pass\n",
        "    \n",
        "    def check_balance(self):\n",
        "        print(self.balance)\n"
      ],
      "execution_count": 40,
      "outputs": []
    },
    {
      "cell_type": "code",
      "metadata": {
        "colab": {
          "base_uri": "https://localhost:8080/"
        },
        "id": "ky2Lkt2uJCc-",
        "outputId": "aa6da1df-657b-46c1-e465-6e78fe6b5c2e"
      },
      "source": [
        "visitor = Bank('Zaur', 'Hamzayev', 123456)\n",
        "visitor.check_customer()"
      ],
      "execution_count": 41,
      "outputs": [
        {
          "output_type": "stream",
          "name": "stdout",
          "text": [
            "Zaur, Your Access Granted\n"
          ]
        }
      ]
    },
    {
      "cell_type": "code",
      "metadata": {
        "colab": {
          "base_uri": "https://localhost:8080/"
        },
        "id": "zzI1nv72R0R3",
        "outputId": "96977965-9038-4d4b-98d0-d9660887e967"
      },
      "source": [
        "visitor.cash_in()"
      ],
      "execution_count": 42,
      "outputs": [
        {
          "output_type": "stream",
          "name": "stdout",
          "text": [
            "500\n",
            "Zaur Your balance has incrased to 1500\n"
          ]
        }
      ]
    },
    {
      "cell_type": "code",
      "metadata": {
        "colab": {
          "base_uri": "https://localhost:8080/"
        },
        "id": "yWHgp1azR2uw",
        "outputId": "6652d7e6-a882-4860-b219-7eb912299334"
      },
      "source": [
        "visitor.cash_out()"
      ],
      "execution_count": 43,
      "outputs": [
        {
          "output_type": "stream",
          "name": "stdout",
          "text": [
            "How much money do you want to withdraw?  1200\n",
            "Your new balance is: 300\n"
          ]
        }
      ]
    },
    {
      "cell_type": "code",
      "metadata": {
        "colab": {
          "base_uri": "https://localhost:8080/"
        },
        "id": "FpBIQwo1R6e-",
        "outputId": "7a9581f4-dcca-4f2b-a877-cdbd4c91a40b"
      },
      "source": [
        "visitor.check_balance()"
      ],
      "execution_count": 44,
      "outputs": [
        {
          "output_type": "stream",
          "name": "stdout",
          "text": [
            "300\n"
          ]
        }
      ]
    },
    {
      "cell_type": "code",
      "metadata": {
        "id": "CvZPliarR-Cy",
        "colab": {
          "base_uri": "https://localhost:8080/"
        },
        "outputId": "640b12e0-3065-40eb-91e9-274f2b2a4c58"
      },
      "source": [
        "visitor.cash_out()"
      ],
      "execution_count": 45,
      "outputs": [
        {
          "output_type": "stream",
          "name": "stdout",
          "text": [
            "How much money do you want to withdraw?  1500\n",
            "How much money do you want to withdraw?  200\n",
            "Your new balance is: 100\n"
          ]
        }
      ]
    },
    {
      "cell_type": "code",
      "metadata": {
        "colab": {
          "base_uri": "https://localhost:8080/"
        },
        "id": "Ks5eYyRyjvdC",
        "outputId": "a7dbf6f2-4a24-4d44-d673-a5ac931c6c69"
      },
      "source": [
        "visitor.cash_out()"
      ],
      "execution_count": 46,
      "outputs": [
        {
          "output_type": "stream",
          "name": "stdout",
          "text": [
            "How much money do you want to withdraw?  1500\n",
            "How much money do you want to withdraw?  1200\n",
            "How much money do you want to withdraw?  1000\n",
            "Zaur Hamzayev, You are blocked, please call *1111\n",
            "None\n"
          ]
        }
      ]
    },
    {
      "cell_type": "code",
      "metadata": {
        "id": "A6JPE7Ssj5Ix"
      },
      "source": [
        ""
      ],
      "execution_count": null,
      "outputs": []
    }
  ]
}